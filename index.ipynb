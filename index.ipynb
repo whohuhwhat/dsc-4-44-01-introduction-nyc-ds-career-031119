{
 "cells": [
  {
   "cell_type": "markdown",
   "metadata": {},
   "source": [
    "# Introduction"
   ]
  },
  {
   "cell_type": "markdown",
   "metadata": {},
   "source": [
    "## Introduction\n",
    "\n",
    "This lesson summarizes the topics we'll be covering in section 44 and why they'll be important to you as a data scientist."
   ]
  },
  {
   "cell_type": "markdown",
   "metadata": {},
   "source": [
    "## Objectives\n",
    "You will be able to:\n",
    "* Understand and explain what is covered in this section\n",
    "* Understand and explain why the section will help you to become a data scientist"
   ]
  },
  {
   "cell_type": "markdown",
   "metadata": {},
   "source": [
    "## Convolutional Neural Networks Continued\n",
    "\n",
    "In the previous section, you learned about the fundamentals of convolutional neural networks and how to use them. In this section, you'll deepen your CNN knowledge and learn about concepts that will allow you to reuse pretrained models from other image recognition tasks. This will help you solve problems where only limited data is available.\n",
    "\n",
    "### Using Pretrained Networks\n",
    "\n",
    "You will learn about the concept of \"convolutional bases\" and why they are useful. The use of a convolutional base, or a \"pretrained network\" has the advantage that hierarchichal features that already have been \"pre-learned\" by this network can act as a generic model. Because of that reason, these networks can be be used for a wide variety of computer vision tasks, even if your new problem involves completely different classes of images. You'll learn about the pretrained networks that are available in Keras, the use of pretrained networks through feature extraction (meaning that you run your new data through the pretrained network and training a new classifier on top of the pretrained network), and the use of pretrained networks through finetuning.\n",
    "\n",
    "\n",
    "### Image Classification \n",
    "\n",
    "At the end of this section, you'll work through a lab that combines the knowledge you gained in this section and the previous one. You'll work on a dog breed classification problem, a data set used in a Kaggle competition, and build both a convolutional neural network from scratch, and a CNN using a pretrained network.\n"
   ]
  },
  {
   "cell_type": "markdown",
   "metadata": {},
   "source": [
    "## Summary\n",
    "\n",
    "In this section, you'll extend your deep learning knowledge by learning about regularizing and optimizing your neural network models. "
   ]
  }
 ],
 "metadata": {
  "kernelspec": {
   "display_name": "Python 3",
   "language": "python",
   "name": "python3"
  },
  "language_info": {
   "codemirror_mode": {
    "name": "ipython",
    "version": 3
   },
   "file_extension": ".py",
   "mimetype": "text/x-python",
   "name": "python",
   "nbconvert_exporter": "python",
   "pygments_lexer": "ipython3",
   "version": "3.6.6"
  }
 },
 "nbformat": 4,
 "nbformat_minor": 2
}
